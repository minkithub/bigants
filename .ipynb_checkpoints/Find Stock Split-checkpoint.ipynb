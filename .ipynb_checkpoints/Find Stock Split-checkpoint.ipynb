{
 "cells": [
  {
   "cell_type": "code",
   "execution_count": 11,
   "metadata": {},
   "outputs": [],
   "source": [
    "import numpy as np\n",
    "import pandas as pd\n",
    "import datetime as dt\n",
    "import warnings\n",
    "warnings.filterwarnings(\"ignore\")\n",
    "from sklearn.metrics import mean_squared_error\n",
    "\n",
    "import os"
   ]
  },
  {
   "cell_type": "code",
   "execution_count": 2,
   "metadata": {},
   "outputs": [],
   "source": [
    "# 주식 코드 불러오기\n",
    "\n",
    "konex_code = pd.read_csv(\"/Users/minki/pythonworkspace/bigants/dataset/stock_number/konex.csv\")\n",
    "kosdaq_code = pd.read_csv(\"/Users/minki/pythonworkspace/bigants/dataset/stock_number/kosdaq.csv\")\n",
    "kospi_code = pd.read_csv(\"/Users/minki/pythonworkspace/bigants/dataset/stock_number/kospi.csv\")"
   ]
  },
  {
   "cell_type": "code",
   "execution_count": 3,
   "metadata": {},
   "outputs": [],
   "source": [
    "konex_code = konex_code[['종목코드', '기업명']]\n",
    "kosdaq_code = kosdaq_code[['종목코드', '기업명']]\n",
    "kospi_code = kospi_code[['종목코드', '기업명']]\n",
    "\n",
    "code_total = pd.concat([konex_code, kosdaq_code, kospi_code])\n",
    "code_total = code_total.reset_index(drop=False, inplace=False)\n",
    "code_total['종목코드'] = code_total['종목코드'].apply(lambda x: \"{:0>6}\".format(x))\n",
    "code_total = code_total[['종목코드', '기업명']]\n",
    "code_total = code_total.rename(columns={'종목코드' : 'code', '기업명' : 'company'})"
   ]
  },
  {
   "cell_type": "code",
   "execution_count": 23,
   "metadata": {},
   "outputs": [
    {
     "ename": "SyntaxError",
     "evalue": "invalid syntax (<ipython-input-23-c1305ebaea42>, line 39)",
     "output_type": "error",
     "traceback": [
      "\u001b[0;36m  File \u001b[0;32m\"<ipython-input-23-c1305ebaea42>\"\u001b[0;36m, line \u001b[0;32m39\u001b[0m\n\u001b[0;31m    print(last_index)\u001b[0m\n\u001b[0m        ^\u001b[0m\n\u001b[0;31mSyntaxError\u001b[0m\u001b[0;31m:\u001b[0m invalid syntax\n"
     ]
    }
   ],
   "source": [
    "# 주식 비율 계산\n",
    "\n",
    "idx_counter = 1\n",
    "\n",
    "info_total = pd.DataFrame(columns = ['market', 'code', 'max_close', \n",
    "                                     'min_close', 'ratio', \n",
    "                                     'division_day', 'zero_day',\n",
    "                                    'first_zero_day', 'fist_close', 'last_zero_day', 'last_close'])\n",
    "\n",
    "MARKETS = ['kospi', 'kosdaq', 'konex']\n",
    "for market in MARKETS:\n",
    "    for root, dirs, files in os.walk(f\"/Users/minki/pythonworkspace/bigants/dataset/{market}\"):\n",
    "        for fname in files:\n",
    "            full_fname = os.path.join(root, fname)\n",
    "            data = pd.read_csv(full_fname)\n",
    "            \n",
    "            code = fname[:6]\n",
    "            \n",
    "            \n",
    "            max_close = data['close'].max()\n",
    "            min_close = data['close'].min()\n",
    "            \n",
    "            division_day = list(data[data['volume']==0]['date'])\n",
    "            zero_day = len(division_day)\n",
    "            \n",
    "            if zero_day > 0 :\n",
    "                  first_zero_day = division_day[-1]\n",
    "            else :\n",
    "                first_zero_day = \"\"\n",
    "                \n",
    "            if zero_day > 0 :\n",
    "                last_zero_day = division_day[0]\n",
    "            else :\n",
    "                last_zero_day = \"\"\n",
    "                \n",
    "            first_index = data[data['date'] == first_zero_day]['close'].index\n",
    "            print(first_index)\n",
    "            last_index = data[data['date'] == last_zero_day['close'].index\n",
    "            print(last_index)\n",
    "            \n",
    "            ratio = max_close/min_close\n",
    "            \n",
    "            print('market :', market, 'code :', code)\n",
    "            print('max_close: ', max_close)\n",
    "            print('min_close: ', min_close)\n",
    "            print('ratio: ', ratio)\n",
    "            \n",
    "            info_total = info_total.append(pd.DataFrame([[market, code, max_close, min_close, ratio, division_day,\n",
    "                                                          zero_day, first_zero_day, first_close, last_zero_day, last_close]],\n",
    "                                                        columns = ['market', 'code', 'max_close', 'min_close', \n",
    "                                                                   'ratio', 'division_day', 'zero_day',\n",
    "                                                                   'first_zero_day', '액면분할 후 주가',\n",
    "                                                                   'last_zero_day', '액면분할 전 주가']))\n",
    "            idx_counter += 1\n",
    "            \n",
    "            print('idx_counter :', idx_counter)"
   ]
  },
  {
   "cell_type": "code",
   "execution_count": 16,
   "metadata": {},
   "outputs": [],
   "source": [
    "info_total = pd.merge(info_total, code_total, on = 'code')\n",
    "\n",
    "info_total = info_total[['market', 'code', 'company', \n",
    "                         'max_close', 'min_close', 'ratio', \n",
    "                         'division_day', 'zero_day',\n",
    "                        'first_zero_day', '액면분할 후 주가',\n",
    "                         'last_zero_day', '액면분할 전 주가']]\n",
    "\n",
    "info_total.to_excel('/Users/minki/pythonworkspace/bigants/dataset/info_total.xlsx')"
   ]
  }
 ],
 "metadata": {
  "kernelspec": {
   "display_name": "Python 3",
   "language": "python",
   "name": "python3"
  },
  "language_info": {
   "codemirror_mode": {
    "name": "ipython",
    "version": 3
   },
   "file_extension": ".py",
   "mimetype": "text/x-python",
   "name": "python",
   "nbconvert_exporter": "python",
   "pygments_lexer": "ipython3",
   "version": "3.6.8"
  }
 },
 "nbformat": 4,
 "nbformat_minor": 2
}
