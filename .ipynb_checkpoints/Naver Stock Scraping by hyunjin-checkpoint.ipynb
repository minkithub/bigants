{
 "cells": [
  {
   "cell_type": "markdown",
   "metadata": {},
   "source": [
    "### 네이버 주식 크롤링"
   ]
  },
  {
   "cell_type": "code",
   "execution_count": null,
   "metadata": {},
   "outputs": [],
   "source": [
    "# def get_url(item_name, code_df):\n",
    "#     code = code_df.query(\"name=='{}'\".format(item_name))['code'].to_string(index=False)\n",
    "#     url = 'http://finance.naver.com/item/sise_day.nhn?code={code}'.format(code=code)\n",
    "    \n",
    "#     print(\"요청 URL = {}\".format(url))\n",
    "#     return url\n",
    "    \n",
    "\n",
    "# 신라젠의 일자데이터 url 가져오기\n",
    "item_name='힘스'\n",
    "url = 'https://finance.naver.com/item/sise.nhn?code=238490'\n",
    "\n",
    "# 일자 데이터를 담을 df라는 DataFrame 정의\n",
    "df = pd.DataFrame()\n",
    "\n",
    "# 1페이지에서 20페이지의 데이터만 가져오기\n",
    "for page in range(1, 21):\n",
    "    pg_url = '{url}&page={page}'.format(url=url, page=page)\n",
    "    df = df.append(pd.read_html(pg_url, header=0)[0], ignore_index=True)\n",
    "\n",
    "# df.dropna()를 이용해 결측값 있는 행 제거\n",
    "df = df.dropna()\n",
    "\n",
    "# 상위 5개 데이터 확인하기\n",
    "df.head()"
   ]
  }
 ],
 "metadata": {
  "kernelspec": {
   "display_name": "Python 3",
   "language": "python",
   "name": "python3"
  },
  "language_info": {
   "codemirror_mode": {
    "name": "ipython",
    "version": 3
   },
   "file_extension": ".py",
   "mimetype": "text/x-python",
   "name": "python",
   "nbconvert_exporter": "python",
   "pygments_lexer": "ipython3",
   "version": "3.6.8"
  }
 },
 "nbformat": 4,
 "nbformat_minor": 2
}
