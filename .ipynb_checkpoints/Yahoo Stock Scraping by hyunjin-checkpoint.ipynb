{
 "cells": [
  {
   "cell_type": "markdown",
   "metadata": {},
   "source": [
    "### 크롤링 코드"
   ]
  },
  {
   "cell_type": "code",
   "execution_count": null,
   "metadata": {},
   "outputs": [],
   "source": [
    "stock_codes = open(\"/Users/minki/pythonworkspace/bigants/dataset/stock_codes.txt\",'r')"
   ]
  },
  {
   "cell_type": "code",
   "execution_count": null,
   "metadata": {},
   "outputs": [],
   "source": [
    "import json\n",
    "import yfinance as yf\n",
    "\n",
    "\n",
    "def main():\n",
    "    with open('stock_codes.txt') as f:\n",
    "        stock_codes = [line.strip() for line in f.readlines()]\n",
    "\n",
    "    pk = 1\n",
    "    for i, stock_code in enumerate(stock_codes):\n",
    "        ticker = yf.Ticker(stock_code)\n",
    "        history = ticker.history(start='2017-01-01')\n",
    "\n",
    "        data = []\n",
    "        for date, row in history.iterrows():\n",
    "            obj = {}\n",
    "            openval, high, low, close, volume, _, _ = row\n",
    "            date = date.strftime('%Y-%m-%d')\n",
    "\n",
    "            obj['model'] = 'predictor.price'\n",
    "            obj['pk'] = pk\n",
    "            obj['fields'] = {\n",
    "                'stock_code': stock_code,\n",
    "                'record_date': date,\n",
    "                'open_value': openval,\n",
    "                'high_value': high,\n",
    "                'low_value': low,\n",
    "                'close_value': close,\n",
    "                'volume': volume\n",
    "            }\n",
    "\n",
    "            data.append(obj)\n",
    "            pk += 1\n",
    "\n",
    "        with open(f'price_fixture_{i}.json', 'w') as f:\n",
    "            json.dump(data, f, indent=4)\n",
    "\n",
    "        print(f'{i}/{len(stock_codes)}', stock_code, 'is done!')\n",
    "\n",
    "if __name__ == '__main__':\n",
    "    main()"
   ]
  },
  {
   "cell_type": "markdown",
   "metadata": {},
   "source": [
    "### json 파일 불러오기"
   ]
  },
  {
   "cell_type": "code",
   "execution_count": null,
   "metadata": {},
   "outputs": [],
   "source": [
    "# Read json data\n",
    "\n",
    "with open('/Users/minki/pythonworkspace/bigants/dataset/merged_price_fixture_without_nan.json', 'r') as f:\n",
    "    json_data = json.load(f)\n",
    "print(json.dumps(json_data))"
   ]
  },
  {
   "cell_type": "code",
   "execution_count": null,
   "metadata": {},
   "outputs": [],
   "source": [
    "from pandas.io.json import json_normalize\n",
    "df_json = json_normalize(json_data)"
   ]
  }
 ],
 "metadata": {
  "kernelspec": {
   "display_name": "Python 3",
   "language": "python",
   "name": "python3"
  },
  "language_info": {
   "codemirror_mode": {
    "name": "ipython",
    "version": 3
   },
   "file_extension": ".py",
   "mimetype": "text/x-python",
   "name": "python",
   "nbconvert_exporter": "python",
   "pygments_lexer": "ipython3",
   "version": "3.6.8"
  }
 },
 "nbformat": 4,
 "nbformat_minor": 2
}
