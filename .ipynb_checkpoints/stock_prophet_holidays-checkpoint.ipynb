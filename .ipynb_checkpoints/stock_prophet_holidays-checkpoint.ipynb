{
 "cells": [
  {
   "cell_type": "code",
   "execution_count": 1,
   "metadata": {},
   "outputs": [],
   "source": [
    "import numpy as np\n",
    "import pandas as pd\n",
    "import datetime as dt\n",
    "from fbprophet import Prophet\n",
    "import warnings\n",
    "warnings.filterwarnings(\"ignore\")\n",
    "\n",
    "import os"
   ]
  },
  {
   "cell_type": "code",
   "execution_count": 2,
   "metadata": {},
   "outputs": [],
   "source": [
    "def _error(actual, predicted):\n",
    "    return actual - predicted\n",
    "\n",
    "EPSILON = 1e-10\n",
    "\n",
    "def _percentage_error(actual, predicted):\n",
    "    return _error(actual, predicted) / (actual + EPSILON)\n",
    "\n",
    "def mae(actual, predicted):\n",
    "    return np.mean(np.abs(_error(actual, predicted)))\n",
    "\n",
    "def mape(actual, predicted):\n",
    "    return np.mean(np.abs(_percentage_error(actual, predicted)))"
   ]
  },
  {
   "cell_type": "code",
   "execution_count": 3,
   "metadata": {},
   "outputs": [],
   "source": [
    "# simple moving average\n",
    "\n",
    "sma_list = ['sma5', 'sma10', 'sma20', 'sma30', 'sma60', 'sma120']\n",
    "\n",
    "def sma(data, n):\n",
    "    data = data.loc[::-1]\n",
    "    data[f'sma{n}'] = data['close'].rolling(window = n).mean()\n",
    "    data = data.loc[::-1]\n",
    "    return data\n",
    "\n",
    "def make_sma(data):\n",
    "    df_close = data[['close']]\n",
    "    for r in [5, 10, 20, 30, 60, 120]:\n",
    "        df_close = sma(df_close, r)\n",
    "        df_close = df_close\n",
    "    df_close['date'] = data[['date']]\n",
    "    return df_close"
   ]
  },
  {
   "cell_type": "code",
   "execution_count": 4,
   "metadata": {},
   "outputs": [],
   "source": [
    "# sma_index는 모두 string형태로 처리해야 한다.\n",
    "# sma_index = sma5, sma10, sma20, sma30, sma60, sma120 중에 선택\n",
    "\n",
    "def sma_cross(data, sma_index1, sma_index2):\n",
    "    cross = pd.DataFrame()\n",
    "    cross['date'] = data['date']\n",
    "    cross['boolean'] = data[sma_index1] - data[sma_index2]\n",
    "    cross['res'] = 'blank'\n",
    "    \n",
    "    for r in range(1, len(cross)+1):\n",
    "        index = len(cross) - r\n",
    "\n",
    "        if cross['boolean'][index] > 0 and cross['boolean'][index+1] < 0 :\n",
    "            cross['res'][index] = 'golden cross'\n",
    "\n",
    "        elif cross['boolean'][index] < 0 and cross['boolean'][index+1] > 0 :\n",
    "            cross['res'][index] = 'death cross'\n",
    "\n",
    "        else:\n",
    "            cross['res'][index] = 'nothing'\n",
    "        \n",
    "    return cross"
   ]
  },
  {
   "cell_type": "code",
   "execution_count": 8,
   "metadata": {},
   "outputs": [
    {
     "name": "stdout",
     "output_type": "stream",
     "text": [
      "code 185190\n",
      "==========================================================\n"
     ]
    },
    {
     "name": "stderr",
     "output_type": "stream",
     "text": [
      "INFO:numexpr.utils:NumExpr defaulting to 8 threads.\n",
      "INFO:fbprophet:Disabling daily seasonality. Run prophet with daily_seasonality=True to override this.\n"
     ]
    },
    {
     "ename": "TypeError",
     "evalue": "concat() got an unexpected keyword argument 'sort'",
     "output_type": "error",
     "traceback": [
      "\u001b[0;31m---------------------------------------------------------------------------\u001b[0m",
      "\u001b[0;31mTypeError\u001b[0m                                 Traceback (most recent call last)",
      "\u001b[0;32m<ipython-input-8-16dd1caed352>\u001b[0m in \u001b[0;36m<module>\u001b[0;34m\u001b[0m\n\u001b[1;32m     44\u001b[0m                 \u001b[0mm\u001b[0m\u001b[0;34m.\u001b[0m\u001b[0mfit\u001b[0m\u001b[0;34m(\u001b[0m\u001b[0mph_df\u001b[0m\u001b[0;34m.\u001b[0m\u001b[0miloc\u001b[0m\u001b[0;34m[\u001b[0m\u001b[0mrange\u001b[0m\u001b[0;34m(\u001b[0m\u001b[0;36m5\u001b[0m\u001b[0;34m,\u001b[0m \u001b[0mlen\u001b[0m\u001b[0;34m(\u001b[0m\u001b[0mph_df\u001b[0m\u001b[0;34m)\u001b[0m\u001b[0;34m)\u001b[0m\u001b[0;34m,\u001b[0m \u001b[0;34m:\u001b[0m\u001b[0;34m]\u001b[0m\u001b[0;34m)\u001b[0m\u001b[0;34m\u001b[0m\u001b[0;34m\u001b[0m\u001b[0m\n\u001b[1;32m     45\u001b[0m                 \u001b[0mfuture_prices\u001b[0m \u001b[0;34m=\u001b[0m \u001b[0mm\u001b[0m\u001b[0;34m.\u001b[0m\u001b[0mmake_future_dataframe\u001b[0m\u001b[0;34m(\u001b[0m\u001b[0mperiods\u001b[0m\u001b[0;34m=\u001b[0m\u001b[0;36m7\u001b[0m\u001b[0;34m)\u001b[0m\u001b[0;34m\u001b[0m\u001b[0;34m\u001b[0m\u001b[0m\n\u001b[0;32m---> 46\u001b[0;31m                 \u001b[0mforecast\u001b[0m \u001b[0;34m=\u001b[0m \u001b[0mm\u001b[0m\u001b[0;34m.\u001b[0m\u001b[0mpredict\u001b[0m\u001b[0;34m(\u001b[0m\u001b[0mfuture_prices\u001b[0m\u001b[0;34m)\u001b[0m\u001b[0;34m\u001b[0m\u001b[0;34m\u001b[0m\u001b[0m\n\u001b[0m\u001b[1;32m     47\u001b[0m \u001b[0;34m\u001b[0m\u001b[0m\n\u001b[1;32m     48\u001b[0m                 \u001b[0mres\u001b[0m \u001b[0;34m=\u001b[0m \u001b[0mforecast\u001b[0m\u001b[0;34m[\u001b[0m\u001b[0;34m[\u001b[0m\u001b[0;34m'ds'\u001b[0m\u001b[0;34m,\u001b[0m \u001b[0;34m'yhat'\u001b[0m\u001b[0;34m,\u001b[0m \u001b[0;34m'yhat_lower'\u001b[0m\u001b[0;34m,\u001b[0m \u001b[0;34m'yhat_upper'\u001b[0m\u001b[0;34m]\u001b[0m\u001b[0;34m]\u001b[0m\u001b[0;34m.\u001b[0m\u001b[0mtail\u001b[0m\u001b[0;34m(\u001b[0m\u001b[0;36m7\u001b[0m\u001b[0;34m)\u001b[0m\u001b[0;34m\u001b[0m\u001b[0;34m\u001b[0m\u001b[0m\n",
      "\u001b[0;32m~/anaconda3/lib/python3.6/site-packages/fbprophet/forecaster.py\u001b[0m in \u001b[0;36mpredict\u001b[0;34m(self, df)\u001b[0m\n\u001b[1;32m   1173\u001b[0m \u001b[0;34m\u001b[0m\u001b[0m\n\u001b[1;32m   1174\u001b[0m         \u001b[0mdf\u001b[0m\u001b[0;34m[\u001b[0m\u001b[0;34m'trend'\u001b[0m\u001b[0;34m]\u001b[0m \u001b[0;34m=\u001b[0m \u001b[0mself\u001b[0m\u001b[0;34m.\u001b[0m\u001b[0mpredict_trend\u001b[0m\u001b[0;34m(\u001b[0m\u001b[0mdf\u001b[0m\u001b[0;34m)\u001b[0m\u001b[0;34m\u001b[0m\u001b[0;34m\u001b[0m\u001b[0m\n\u001b[0;32m-> 1175\u001b[0;31m         \u001b[0mseasonal_components\u001b[0m \u001b[0;34m=\u001b[0m \u001b[0mself\u001b[0m\u001b[0;34m.\u001b[0m\u001b[0mpredict_seasonal_components\u001b[0m\u001b[0;34m(\u001b[0m\u001b[0mdf\u001b[0m\u001b[0;34m)\u001b[0m\u001b[0;34m\u001b[0m\u001b[0;34m\u001b[0m\u001b[0m\n\u001b[0m\u001b[1;32m   1176\u001b[0m         \u001b[0mintervals\u001b[0m \u001b[0;34m=\u001b[0m \u001b[0mself\u001b[0m\u001b[0;34m.\u001b[0m\u001b[0mpredict_uncertainty\u001b[0m\u001b[0;34m(\u001b[0m\u001b[0mdf\u001b[0m\u001b[0;34m)\u001b[0m\u001b[0;34m\u001b[0m\u001b[0;34m\u001b[0m\u001b[0m\n\u001b[1;32m   1177\u001b[0m \u001b[0;34m\u001b[0m\u001b[0m\n",
      "\u001b[0;32m~/anaconda3/lib/python3.6/site-packages/fbprophet/forecaster.py\u001b[0m in \u001b[0;36mpredict_seasonal_components\u001b[0;34m(self, df)\u001b[0m\n\u001b[1;32m   1288\u001b[0m         \"\"\"\n\u001b[1;32m   1289\u001b[0m         seasonal_features, _, component_cols, _ = (\n\u001b[0;32m-> 1290\u001b[0;31m             \u001b[0mself\u001b[0m\u001b[0;34m.\u001b[0m\u001b[0mmake_all_seasonality_features\u001b[0m\u001b[0;34m(\u001b[0m\u001b[0mdf\u001b[0m\u001b[0;34m)\u001b[0m\u001b[0;34m\u001b[0m\u001b[0;34m\u001b[0m\u001b[0m\n\u001b[0m\u001b[1;32m   1291\u001b[0m         )\n\u001b[1;32m   1292\u001b[0m         \u001b[0mlower_p\u001b[0m \u001b[0;34m=\u001b[0m \u001b[0;36m100\u001b[0m \u001b[0;34m*\u001b[0m \u001b[0;34m(\u001b[0m\u001b[0;36m1.0\u001b[0m \u001b[0;34m-\u001b[0m \u001b[0mself\u001b[0m\u001b[0;34m.\u001b[0m\u001b[0minterval_width\u001b[0m\u001b[0;34m)\u001b[0m \u001b[0;34m/\u001b[0m \u001b[0;36m2\u001b[0m\u001b[0;34m\u001b[0m\u001b[0;34m\u001b[0m\u001b[0m\n",
      "\u001b[0;32m~/anaconda3/lib/python3.6/site-packages/fbprophet/forecaster.py\u001b[0m in \u001b[0;36mmake_all_seasonality_features\u001b[0;34m(self, df)\u001b[0m\n\u001b[1;32m    742\u001b[0m \u001b[0;34m\u001b[0m\u001b[0m\n\u001b[1;32m    743\u001b[0m         \u001b[0;31m# Holiday features\u001b[0m\u001b[0;34m\u001b[0m\u001b[0;34m\u001b[0m\u001b[0;34m\u001b[0m\u001b[0m\n\u001b[0;32m--> 744\u001b[0;31m         \u001b[0mholidays\u001b[0m \u001b[0;34m=\u001b[0m \u001b[0mself\u001b[0m\u001b[0;34m.\u001b[0m\u001b[0mconstruct_holiday_dataframe\u001b[0m\u001b[0;34m(\u001b[0m\u001b[0mdf\u001b[0m\u001b[0;34m[\u001b[0m\u001b[0;34m'ds'\u001b[0m\u001b[0;34m]\u001b[0m\u001b[0;34m)\u001b[0m\u001b[0;34m\u001b[0m\u001b[0;34m\u001b[0m\u001b[0m\n\u001b[0m\u001b[1;32m    745\u001b[0m         \u001b[0;32mif\u001b[0m \u001b[0mlen\u001b[0m\u001b[0;34m(\u001b[0m\u001b[0mholidays\u001b[0m\u001b[0;34m)\u001b[0m \u001b[0;34m>\u001b[0m \u001b[0;36m0\u001b[0m\u001b[0;34m:\u001b[0m\u001b[0;34m\u001b[0m\u001b[0;34m\u001b[0m\u001b[0m\n\u001b[1;32m    746\u001b[0m             features, holiday_priors, holiday_names = (\n",
      "\u001b[0;32m~/anaconda3/lib/python3.6/site-packages/fbprophet/forecaster.py\u001b[0m in \u001b[0;36mconstruct_holiday_dataframe\u001b[0;34m(self, dates)\u001b[0m\n\u001b[1;32m    472\u001b[0m                 ]\n\u001b[1;32m    473\u001b[0m             })\n\u001b[0;32m--> 474\u001b[0;31m             \u001b[0mall_holidays\u001b[0m \u001b[0;34m=\u001b[0m \u001b[0mpd\u001b[0m\u001b[0;34m.\u001b[0m\u001b[0mconcat\u001b[0m\u001b[0;34m(\u001b[0m\u001b[0;34m(\u001b[0m\u001b[0mall_holidays\u001b[0m\u001b[0;34m,\u001b[0m \u001b[0mholidays_to_add\u001b[0m\u001b[0;34m)\u001b[0m\u001b[0;34m,\u001b[0m \u001b[0msort\u001b[0m\u001b[0;34m=\u001b[0m\u001b[0;32mFalse\u001b[0m\u001b[0;34m)\u001b[0m\u001b[0;34m\u001b[0m\u001b[0;34m\u001b[0m\u001b[0m\n\u001b[0m\u001b[1;32m    475\u001b[0m             \u001b[0mall_holidays\u001b[0m\u001b[0;34m.\u001b[0m\u001b[0mreset_index\u001b[0m\u001b[0;34m(\u001b[0m\u001b[0mdrop\u001b[0m\u001b[0;34m=\u001b[0m\u001b[0;32mTrue\u001b[0m\u001b[0;34m,\u001b[0m \u001b[0minplace\u001b[0m\u001b[0;34m=\u001b[0m\u001b[0;32mTrue\u001b[0m\u001b[0;34m)\u001b[0m\u001b[0;34m\u001b[0m\u001b[0;34m\u001b[0m\u001b[0m\n\u001b[1;32m    476\u001b[0m         \u001b[0;32mreturn\u001b[0m \u001b[0mall_holidays\u001b[0m\u001b[0;34m\u001b[0m\u001b[0;34m\u001b[0m\u001b[0m\n",
      "\u001b[0;31mTypeError\u001b[0m: concat() got an unexpected keyword argument 'sort'"
     ]
    }
   ],
   "source": [
    "error_total = pd.DataFrame(columns = ['code', 'holidays', 'mae', 'mape', 'accuracy'])\n",
    "\n",
    "for root, dirs, files in os.walk(\"/Users/minki/pythonworkspace/bigants/dataset/konex\"):\n",
    "    for fname in files:\n",
    "        full_fname = os.path.join(root, fname)\n",
    "        data = pd.read_csv(full_fname)\n",
    "        data['code'] = fname[:6]\n",
    "        \n",
    "        # Read data\n",
    "        df_close = make_sma(data)\n",
    "        \n",
    "        for i in range(0, len(sma_list)):\n",
    "            sma_id1 = sma_list[i]\n",
    "            for r in range(i+1, len(sma_list)):\n",
    "                sma_id2 = sma_list[r]\n",
    "                df_cross = sma_cross(df_close, sma_id1, sma_id2)\n",
    "                \n",
    "                # Mkae holidays and holidays date\n",
    "                cross_date = df_cross[df_cross['res'] != 'nothing']['date']\n",
    "                names = sma_id1 + '_' + sma_id2\n",
    "                cross_date = pd.DataFrame({\n",
    "                    'holiday' : names,\n",
    "                    'ds' : pd.to_datetime(list(cross_date)),\n",
    "                    'lower_window' : 0,\n",
    "                    'upper_window' : 1\n",
    "                })\n",
    "                \n",
    "                \n",
    "                # Make prophet model data\n",
    "                \n",
    "                ch_scale = 0.05\n",
    "                inter_scale = 0.95\n",
    "                ph_df = data[['date', 'close']]\n",
    "                ph_df.rename(columns={'close': 'y', 'date': 'ds'}, inplace=True)\n",
    "                m = Prophet(changepoint_prior_scale = ch_scale,\n",
    "                           interval_width = inter_scale,\n",
    "                           holidays = cross_date)\n",
    "                m.fit(ph_df.iloc[range(5, len(ph_df)), :])\n",
    "                future_prices = m.make_future_dataframe(periods=7)\n",
    "                forecast = m.predict(future_prices)\n",
    "                \n",
    "                res = forecast[['ds', 'yhat', 'yhat_lower', 'yhat_upper']].tail(7)\n",
    "                res = res.rename(columns = {'ds' : 'date', 'yhat' : 'close_pre'})\n",
    "                res = res.loc[::-1]\n",
    "                res = res.reset_index(drop = True, inplace = False)\n",
    "                res['index'] = res['date'].dt.strftime('%Y%m%d').astype(int)\n",
    "                \n",
    "                # data = original data\n",
    "                data['date'] = pd.to_datetime(data['date'], errors='coerce')\n",
    "                data['index'] = data['date'].dt.strftime('%Y%m%d').astype(int)\n",
    "                \n",
    "                # calculate of error\n",
    "                cal_error = pd.merge(res, data, on = 'index')\n",
    "                del cal_error['date_y']\n",
    "                del cal_error['index']\n",
    "                cal_error = cal_error.rename(columns = {'date_x' : 'date'})\n",
    "                \n",
    "                mae_res = mae(cal_error['close'], cal_error['close_pre'])\n",
    "                mape_res = mape(cal_error['close'], cal_error['close_pre'])\n",
    "                accuracy = 100 - mape_res*100\n",
    "                \n",
    "                code = data.loc[1, 'code']\n",
    "                error_total = error_total.append(pd.DataFrame([[code, names, mae_res, mape_res, accuracy]], \n",
    "                                                              columns = ['code', 'holidays', 'mae', 'mape', 'accuracy']))\n",
    "                print(\"==========================================================\")"
   ]
  },
  {
   "cell_type": "code",
   "execution_count": null,
   "metadata": {},
   "outputs": [],
   "source": []
  }
 ],
 "metadata": {
  "kernelspec": {
   "display_name": "Python 3",
   "language": "python",
   "name": "python3"
  },
  "language_info": {
   "codemirror_mode": {
    "name": "ipython",
    "version": 3
   },
   "file_extension": ".py",
   "mimetype": "text/x-python",
   "name": "python",
   "nbconvert_exporter": "python",
   "pygments_lexer": "ipython3",
   "version": "3.6.8"
  }
 },
 "nbformat": 4,
 "nbformat_minor": 2
}
